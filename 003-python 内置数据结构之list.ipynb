{
 "cells": [
  {
   "cell_type": "markdown",
   "metadata": {},
   "source": [
    "# 内置数据结构（变量类型）\n",
    "- list 列表\n",
    "- set 集合\n",
    "- dict 字典\n",
    "- tuple 元组"
   ]
  },
  {
   "cell_type": "markdown",
   "metadata": {},
   "source": [
    "# 3.list(列表)\n",
    "- 顺序结构，即元素在列表中的排列是按输入顺序。\n",
    "- 元素值可以重复。\n",
    "- 同一个列表中可以包含不同类型的元素。\n",
    "- 列表的每一个元素还可以是另一个列表，相当于定义了一个二维或多维数组。"
   ]
  },
  {
   "cell_type": "code",
   "execution_count": 2,
   "metadata": {},
   "outputs": [
    {
     "name": "stdout",
     "output_type": "stream",
     "text": [
      "<class 'list'>\n",
      "[]\n",
      "<class 'list'>\n",
      "[]\n"
     ]
    }
   ],
   "source": [
    "# 创建空列表\n",
    "# 方式1\n",
    "list1 = []\n",
    "print(type(list1))\n",
    "print(list1)\n",
    "\n",
    "# 方式2\n",
    "list2 = list()\n",
    "print(type(list2))\n",
    "print(list2)"
   ]
  },
  {
   "cell_type": "code",
   "execution_count": 5,
   "metadata": {},
   "outputs": [
    {
     "name": "stdout",
     "output_type": "stream",
     "text": [
      "['python', 123, 23.4, True]\n",
      "-----------------------------\n",
      "13\n",
      "['marry', 'tom', 'jack']\n",
      "[14, 24, 43]\n",
      "[True, False, True, False]\n",
      "hello\n"
     ]
    }
   ],
   "source": [
    "# 创建非空列表\n",
    "values = ['python',123,23.4,True] # 创建一个拥有不同类型元素的列表\n",
    "print(values)\n",
    "print(\"-----------------------------\")\n",
    "\n",
    "names = ['marry','tom','jack']\n",
    "age = [14, 24, 43]\n",
    "flag = [True,False,True,False]\n",
    "values = [13, names, age, flag, 'hello'] # 列表中包含其他列表\n",
    "# 可以用for循环遍历这个列表\n",
    "for value in values:\n",
    "    print(value)"
   ]
  },
  {
   "cell_type": "markdown",
   "metadata": {},
   "source": [
    "## 3.1 list常用操作\n",
    "- 索引（indexing）\n",
    "- 分片（slicing）\n",
    "- 加（adding）\n",
    "- 乘（multiplying)\n",
    "- 删除（delete）"
   ]
  },
  {
   "cell_type": "markdown",
   "metadata": {},
   "source": [
    "### 3.1.1 通过索引操作序列元素\n",
    "- 列表中所有元素都是有编号的，编号从0开始递增。列表中所有元素都可以用编号访问，这个编号被称为索引。\n",
    "- 如果索引是负数，那么python会从右侧第一个元素开始取值。序列最后一个元素的索引是-1，倒数第二个是-2，以此类推。\n",
    "- 当索引超出列表的索引范围时，会抛出异常。"
   ]
  },
  {
   "cell_type": "code",
   "execution_count": 13,
   "metadata": {},
   "outputs": [
    {
     "name": "stdout",
     "output_type": "stream",
     "text": [
      "1\n",
      "2\n",
      "9\n"
     ]
    }
   ],
   "source": [
    "#索引\n",
    "l = [1,2,3,4,5,6,7,8,9]\n",
    "\n",
    "#访问下标\n",
    "print(l[0])\n",
    "print(l[1])\n",
    "print(l[-1])"
   ]
  },
  {
   "cell_type": "markdown",
   "metadata": {},
   "source": [
    "### 3.1.2 分片\n",
    "- 对列表一段的截取叫分片。\n"
   ]
  },
  {
   "cell_type": "code",
   "execution_count": 14,
   "metadata": {},
   "outputs": [
    {
     "name": "stdout",
     "output_type": "stream",
     "text": [
      "完整的列表： [1, 2, 3, 4, 5, 6, 7, 8, 9]\n",
      "[2, 3, 4]\n",
      "[2, 3, 4, 5, 6, 7, 8, 9]\n",
      "[1, 2, 3, 4]\n",
      "[2, 4, 6]\n",
      "[5, 6, 7]\n",
      "[7, 6, 5]\n"
     ]
    }
   ],
   "source": [
    "#分片操作是生成一个新的list\n",
    "l0 = l[:] # 如果开始索引和结束索引都不指定，那么将复制整个子列表。 \n",
    "print(\"完整的列表：\",l0)\n",
    "\n",
    "l1 = l[1:4]# 左闭右开\n",
    "print(l1)\n",
    "\n",
    "l2 = l[1:] # 不指定结束索引时表示从开始索引到末尾\n",
    "print(l2)\n",
    "\n",
    "l3 = l[:4]\n",
    "print(l3) # 不指定开始索引则表示从0到结束索引\n",
    "\n",
    "l4 = l[1:6:2] # 增长幅度写到最后一位\n",
    "print(l4)\n",
    "\n",
    "#分片之负数下标\n",
    "l5 = l[-5:-2] # 如果步长为正数（默认为1），开始索引一定要比结束索引要小。\n",
    "print(l5)\n",
    "\n",
    "l6 = l[-3:-6:-1]#步长为负数表示从右向左截取，此时开始索引一定要比结束索引要大。\n",
    "print(l6)"
   ]
  },
  {
   "cell_type": "markdown",
   "metadata": {},
   "source": [
    "### 3.1.3 列表相加\n",
    "- 列表的相加，是指序列首尾相接。"
   ]
  },
  {
   "cell_type": "code",
   "execution_count": 20,
   "metadata": {},
   "outputs": [
    {
     "name": "stdout",
     "output_type": "stream",
     "text": [
      "[1, 2, 3, 4, 5, 6]\n",
      "[1, 2, 3, 'python']\n"
     ]
    },
    {
     "ename": "TypeError",
     "evalue": "can only concatenate list (not \"str\") to list",
     "output_type": "error",
     "traceback": [
      "\u001b[1;31m---------------------------------------------------------------------------\u001b[0m",
      "\u001b[1;31mTypeError\u001b[0m                                 Traceback (most recent call last)",
      "\u001b[1;32m<ipython-input-20-55bcd7c8f7f3>\u001b[0m in \u001b[0;36m<module>\u001b[1;34m()\u001b[0m\n\u001b[0;32m      5\u001b[0m \u001b[0mprint\u001b[0m\u001b[1;33m(\u001b[0m\u001b[0ml1\u001b[0m \u001b[1;33m+\u001b[0m \u001b[0ml2\u001b[0m\u001b[1;33m)\u001b[0m\u001b[1;33m\u001b[0m\u001b[0m\n\u001b[0;32m      6\u001b[0m \u001b[0mprint\u001b[0m\u001b[1;33m(\u001b[0m\u001b[0ml1\u001b[0m \u001b[1;33m+\u001b[0m \u001b[0ml3\u001b[0m\u001b[1;33m)\u001b[0m\u001b[1;33m\u001b[0m\u001b[0m\n\u001b[1;32m----> 7\u001b[1;33m \u001b[0mprint\u001b[0m\u001b[1;33m(\u001b[0m\u001b[0ml1\u001b[0m \u001b[1;33m+\u001b[0m \u001b[1;34m\"hello\"\u001b[0m\u001b[1;33m)\u001b[0m \u001b[1;31m# 列表不能直接加一个字符串，否则报错\u001b[0m\u001b[1;33m\u001b[0m\u001b[0m\n\u001b[0m",
      "\u001b[1;31mTypeError\u001b[0m: can only concatenate list (not \"str\") to list"
     ]
    }
   ],
   "source": [
    "# 序列相加\n",
    "l1 = [1,2,3]\n",
    "l2 = [4,5,6]\n",
    "l3 = ['python'] # 由字符串构成的列表\n",
    "print(l1 + l2)\n",
    "print(l1 + l3)\n",
    "print(l1 + \"hello\") # 列表不能直接加一个字符串，否则报错\n"
   ]
  },
  {
   "cell_type": "markdown",
   "metadata": {},
   "source": [
    "### 3.1.4 列表的乘法\n",
    "- 如果用数字n乘以一个列表会生成新的列表，而在新的列表中，原来的列表元素将被重复n次。"
   ]
  },
  {
   "cell_type": "code",
   "execution_count": 21,
   "metadata": {},
   "outputs": [
    {
     "name": "stdout",
     "output_type": "stream",
     "text": [
      "[1, 2, 3, 4, 1, 2, 3, 4, 1, 2, 3, 4]\n"
     ]
    }
   ],
   "source": [
    "#使用乘号操作列表\n",
    "l = [1,2,3,4]\n",
    "d = l * 3\n",
    "print(d)"
   ]
  },
  {
   "cell_type": "markdown",
   "metadata": {},
   "source": [
    "### 3.1.5 删除列表中的元素\n",
    "- 使用del语句就可以删除列表中的元素"
   ]
  },
  {
   "cell_type": "code",
   "execution_count": 2,
   "metadata": {},
   "outputs": [
    {
     "name": "stdout",
     "output_type": "stream",
     "text": [
      "[1, 2, 4, 5, 6]\n",
      "[1, 4, 5, 6]\n"
     ]
    }
   ],
   "source": [
    "# del\n",
    "a = [1,2,3,4,5,6]\n",
    "del a[2]\n",
    "print(a)\n",
    "del(a[1])\n",
    "print(a)"
   ]
  },
  {
   "cell_type": "markdown",
   "metadata": {},
   "source": [
    "### 3.1.6 分片赋值\n",
    "- 通过分片的方法将列表中的子列表替换为其他列表。"
   ]
  },
  {
   "cell_type": "code",
   "execution_count": 22,
   "metadata": {},
   "outputs": [
    {
     "name": "stdout",
     "output_type": "stream",
     "text": [
      "['hello', 'a', 'b', 'c']\n"
     ]
    }
   ],
   "source": [
    "# 分片赋值实例\n",
    "s = ['hello', 'python', 'world']\n",
    "s[1:] = ['a','b','c'] # 将列表s从第二个元素开始替换成一个新的列表\n",
    "print(s)"
   ]
  },
  {
   "cell_type": "markdown",
   "metadata": {},
   "source": [
    "- 分片赋值是用另一个列表来修改原列表中的子列表。而且在赋值时，被替换的子列表和新的列表可以不等长。\n",
    "<p> 可以利用这个特性在列表中插入一个列表或删除一些元素。"
   ]
  },
  {
   "cell_type": "code",
   "execution_count": 23,
   "metadata": {},
   "outputs": [
    {
     "name": "stdout",
     "output_type": "stream",
     "text": [
      "[1, 2, 3, 4, 5, 6, 7]\n",
      "[1, 5, 6, 7]\n"
     ]
    }
   ],
   "source": [
    "# 本例将利用分片赋值在列表中插入一个列表，并删除一些列表元素\n",
    "numbers = [1,6,7]\n",
    "\n",
    "# 在列表中插入一个列表\n",
    "numbers[1:1] = [2,3,4,5] # 冒号前后两个数字相等，表示不替换列表中的任何元素，直接在该数字索引处插入新列表\n",
    "print(numbers)\n",
    "\n",
    "numbers[1:4] = [] # 可以通过空列表替换来删除一些元素\n",
    "print(numbers)"
   ]
  },
  {
   "cell_type": "markdown",
   "metadata": {},
   "source": [
    "### 3.1.7成员资格运算\n",
    "- 就是判断一个元素是否在list里边"
   ]
  },
  {
   "cell_type": "code",
   "execution_count": 10,
   "metadata": {},
   "outputs": [
    {
     "name": "stdout",
     "output_type": "stream",
     "text": [
      "False\n",
      "True\n"
     ]
    }
   ],
   "source": [
    "e = 7\n",
    "print(e in a)\n",
    "print(e not in a)"
   ]
  },
  {
   "cell_type": "markdown",
   "metadata": {},
   "source": [
    "## 3.2 列表方法\n",
    "- 方法和函数非常类似，只是函数是全局的，而方法是需要定义在类中，需要通过对象调用。\n",
    "- 列表中常用的方法如下：\n",
    "    - append：在列表末尾添加元素\n",
    "    - clear： 用于清空列表内容\n",
    "    - copy：  用于复制一个列表（浅复制）\n",
    "    - count:  用于统计某个元素在列表中出现的次数\n",
    "    - extend：用于在列表结尾插入另一个列表，也就是用新列表扩展原有的列表。有点类似于列表相加，不过该方法改变的是原列表，而相加会产生新列表。\n",
    "    - index： 用于从列表中找出某个值第一次出现的索引位置。\n",
    "    - insert：用于将值插入到列表的指定位置\n",
    "    - pop：  弹栈，返回弹出的元素值\n",
    "    - remove：用于移除列表中某个值的第一次匹配项。\n",
    "    - reverse：用于将列表反序\n",
    "    - sort：  对列表进行排序"
   ]
  },
  {
   "cell_type": "code",
   "execution_count": 28,
   "metadata": {},
   "outputs": [
    {
     "name": "stdout",
     "output_type": "stream",
     "text": [
      "测试append方法\n",
      "[1, 2, 3, 4, 5]\n",
      "[1, 2, 3, 4, 5, [6, 7]]\n"
     ]
    }
   ],
   "source": [
    "# append操作实例\n",
    "print(\"测试append方法\")\n",
    "numbers = [1,2,3,4]\n",
    "numbers.append(5)\n",
    "print(numbers)\n",
    "numbers.append([6,7]) # 将列表[6,7]作为一个元素添加到numbers列表中\n",
    "print(numbers)"
   ]
  },
  {
   "cell_type": "code",
   "execution_count": 29,
   "metadata": {},
   "outputs": [
    {
     "name": "stdout",
     "output_type": "stream",
     "text": [
      "测试clear方法\n",
      "[1, 2, 3, 4, 5, 6]\n",
      "[]\n"
     ]
    }
   ],
   "source": [
    "# clear操作实例\n",
    "print(\"测试clear方法\")\n",
    "numbers = [1,2,3,4,5,6]\n",
    "print(numbers)\n",
    "numbers.clear()\n",
    "print(numbers)"
   ]
  },
  {
   "cell_type": "code",
   "execution_count": 18,
   "metadata": {},
   "outputs": [
    {
     "name": "stdout",
     "output_type": "stream",
     "text": [
      "[1, 2, 4, 5, 6, 7]\n",
      "[1, 2, 33, 5, 6, 7]\n",
      "[1, 2, 33, 5, 6, 7]\n",
      "**************************************************\n",
      "[1, 2, 33, 5, 22, 7]\n",
      "[1, 2, 33, 5, 6, 7]\n"
     ]
    }
   ],
   "source": [
    "#copy 拷贝，浅拷贝\n",
    "a = [1,2,4,5,6,7]\n",
    "print(a)\n",
    "b = a #此时传的是地址\n",
    "a[2] = 33\n",
    "print(a)\n",
    "print(b)#若想b拥有单独的id而不是和a相同，则用copy\n",
    "\n",
    "print('*' * 50)\n",
    "b = a.copy()\n",
    "a[4] = 22\n",
    "print(a)\n",
    "print(b)#此时a与b拥有不同的id"
   ]
  },
  {
   "cell_type": "code",
   "execution_count": 1,
   "metadata": {},
   "outputs": [
    {
     "name": "stdout",
     "output_type": "stream",
     "text": [
      "False\n",
      "True\n",
      "[1, 2, 3, [10, 20, 300]]\n",
      "[1, 2, 3, [10, 20, 300]]\n"
     ]
    }
   ],
   "source": [
    "#深拷贝和浅拷贝的区别\n",
    "#出现下列问题是因为，copy函数只是浅拷贝，只能拷贝一层内容\n",
    "#深拷贝需要特定的工具\n",
    "a = [1,2,3,[10,20,30]]\n",
    "b = a.copy()\n",
    "print(id(a) == id(b)) #不同\n",
    "print(id(a[3])==id(b[3]))#相同，说明嵌套的列表还是使用的同一个\n",
    "a[3][2] = 300\n",
    "print(a)\n",
    "print(b)"
   ]
  },
  {
   "cell_type": "code",
   "execution_count": 37,
   "metadata": {},
   "outputs": [
    {
     "name": "stdout",
     "output_type": "stream",
     "text": [
      "测试count方法\n",
      "3\n",
      "2\n",
      "0\n"
     ]
    }
   ],
   "source": [
    "# count操作实例\n",
    "print(\"测试count方法\")\n",
    "words = ['ha','python','hello','ha','world','ha',[1,2],'ok',[1,2]]\n",
    "print(words.count('ha'))\n",
    "print(words.count([1,2]))\n",
    "print(words.count(1))"
   ]
  },
  {
   "cell_type": "code",
   "execution_count": 39,
   "metadata": {},
   "outputs": [
    {
     "name": "stdout",
     "output_type": "stream",
     "text": [
      "测试extend方法\n",
      "[1, 2, 3, 4, 5, 6]\n",
      "None\n"
     ]
    }
   ],
   "source": [
    "# extend操作实例\n",
    "# 做列表连接时推荐使用extend方法，列表相加效率太低\n",
    "print(\"测试extend方法\")\n",
    "a = [1,2,3]\n",
    "b = [4,5,6]\n",
    "c = a.extend(b) # extend 不会返回值\n",
    "print(a)\n",
    "print(c) #None表示没有返回值"
   ]
  },
  {
   "cell_type": "code",
   "execution_count": 40,
   "metadata": {},
   "outputs": [
    {
     "name": "stdout",
     "output_type": "stream",
     "text": [
      "测试index方法\n",
      "1\n"
     ]
    }
   ],
   "source": [
    "# index操作实例\n",
    "print(\"测试index方法\")\n",
    "s = ['hello','python','world']\n",
    "print(s.index('python'))\n",
    "# 如果搜索的元素不在列表中，则抛出异常"
   ]
  },
  {
   "cell_type": "code",
   "execution_count": 41,
   "metadata": {},
   "outputs": [
    {
     "name": "stdout",
     "output_type": "stream",
     "text": [
      "测试insert方法\n",
      "[1, 2, 3, 'four', 4]\n"
     ]
    }
   ],
   "source": [
    "# insert操作实例\n",
    "print(\"测试insert方法\")\n",
    "numbers = [1,2,3,4]\n",
    "numbers.insert(3,\"four\")\n",
    "print(numbers)"
   ]
  },
  {
   "cell_type": "code",
   "execution_count": 44,
   "metadata": {},
   "outputs": [
    {
     "name": "stdout",
     "output_type": "stream",
     "text": [
      "测试pop方法\n",
      "4\n",
      "1\n",
      "[2, 3]\n"
     ]
    }
   ],
   "source": [
    "# pop测试实例\n",
    "print(\"测试pop方法\")\n",
    "numbers = [1,2,3,4]\n",
    "a = numbers.pop()\n",
    "print(a)\n",
    "print(numbers.pop(0))\n",
    "print(numbers)"
   ]
  },
  {
   "cell_type": "code",
   "execution_count": 45,
   "metadata": {},
   "outputs": [
    {
     "name": "stdout",
     "output_type": "stream",
     "text": [
      "测试remove方法\n",
      "['python', 'world']\n"
     ]
    }
   ],
   "source": [
    "# remove测试实例\n",
    "print(\"测试remove方法\")\n",
    "words = ['hello', 'python', 'world']\n",
    "words.remove(\"hello\")\n",
    "print(words)\n",
    "# 删除不存在的列表元素，会抛出异常"
   ]
  },
  {
   "cell_type": "code",
   "execution_count": 46,
   "metadata": {},
   "outputs": [
    {
     "name": "stdout",
     "output_type": "stream",
     "text": [
      "测试reverse方法\n",
      "[7, 6, 5, 4, 3, 2, 1]\n"
     ]
    }
   ],
   "source": [
    "# reverse操作实例\n",
    "print(\"测试reverse方法\")\n",
    "numbers = [1,2,3,4,5,6,7]\n",
    "numbers.reverse()\n",
    "print(numbers)"
   ]
  },
  {
   "cell_type": "code",
   "execution_count": 56,
   "metadata": {},
   "outputs": [
    {
     "name": "stdout",
     "output_type": "stream",
     "text": [
      "测试sort方法\n",
      "[1, 2, 3, 4, 4, 7]\n",
      "[7, 4, 4, 3, 2, 1]\n",
      "-------------------\n",
      "y列表： [1, 2, 3, 4, 5, 5, 7, 9]\n",
      "x列表： [1, 4, 5, 7, 9, 3, 2, 5]\n"
     ]
    }
   ],
   "source": [
    "# sort操作实例\n",
    "print(\"测试sort方法\")\n",
    "numbers = [1,4,3,2,4,7]\n",
    "numbers.sort()\n",
    "print(numbers)\n",
    "# 还可以进行降序排列\n",
    "numbers.sort(reverse=True)\n",
    "print(numbers)\n",
    "\n",
    "print(\"-------------------\")\n",
    "# 如果想对副本进行操作，则可以用sorted函数\n",
    "x = [1,4,5,7,9,3,2,5]\n",
    "y = sorted(x) # sorted是函数，不用对象调用\n",
    "print(\"y列表：\",y)\n",
    "print(\"x列表：\",x)"
   ]
  },
  {
   "cell_type": "markdown",
   "metadata": {},
   "source": [
    "## 3.3 列表的遍历\n",
    "- for循环遍历\n",
    "- while循环遍历"
   ]
  },
  {
   "cell_type": "code",
   "execution_count": 24,
   "metadata": {},
   "outputs": [
    {
     "name": "stdout",
     "output_type": "stream",
     "text": [
      "1\n",
      "2\n",
      "3\n",
      "4\n",
      "5\n"
     ]
    }
   ],
   "source": [
    "# for in list\n",
    "a = [1,2,3,4,5]\n",
    "#打印a中的每一个元素\n",
    "for i in a:  # in后面的变量必须是可迭代的\n",
    "    print(i)"
   ]
  },
  {
   "cell_type": "code",
   "execution_count": 1,
   "metadata": {},
   "outputs": [
    {
     "name": "stdout",
     "output_type": "stream",
     "text": [
      "1\n",
      "2\n",
      "3\n",
      "4\n",
      "5\n",
      "6\n"
     ]
    }
   ],
   "source": [
    "#while访问list\n",
    "#一般不使用\n",
    "a = [1,2,3,4,5,6]\n",
    "index = 0\n",
    "while index < len(a):\n",
    "    print(a[index])\n",
    "    index += 1"
   ]
  },
  {
   "cell_type": "code",
   "execution_count": 11,
   "metadata": {},
   "outputs": [
    {
     "name": "stdout",
     "output_type": "stream",
     "text": [
      "one --> 1\n",
      "two --> 2\n",
      "three --> 3\n",
      "**************************************************\n",
      "one -- 1 -- 111\n",
      "two -- 2 -- 222\n",
      "three -- 3 -- 333\n",
      "**************************************************\n",
      "one\n",
      "12\n",
      "3\n",
      "4\n",
      "5\n",
      "********************\n",
      "two\n",
      "2\n",
      "234\n",
      "********************\n",
      "three\n",
      "3\n",
      "64\n",
      "221\n",
      "********************\n"
     ]
    }
   ],
   "source": [
    "# 双层列表循环\n",
    "a = [['one',1],['two',2],['three',3]]\n",
    "b = [['one',12,3,4,5],['two',2,234],['three',3,64,221]]\n",
    "c = [['one',1,'111'],['two',2,'222'],['three',3,'333']]\n",
    "\n",
    "for k,v in a:#只有类似于字典的结构才能这样遍历,即a可以，b不可以\n",
    "    print(k, '-->', v)\n",
    "    \n",
    "print('*'* 50)\n",
    "for k,v,w in c:#c也可以通过这种方式遍历\n",
    "    print(k, '--', v, '--', w)\n",
    "\n",
    "print('*'* 50)\n",
    "# b可以这样遍历\n",
    "for i in b:\n",
    "    for j in i:\n",
    "        print(j)\n",
    "    print('*'* 20)"
   ]
  },
  {
   "cell_type": "markdown",
   "metadata": {},
   "source": [
    "## 3.4列表内涵：list content\n",
    "- 通过简单方法创建列表"
   ]
  },
  {
   "cell_type": "code",
   "execution_count": 13,
   "metadata": {},
   "outputs": [
    {
     "name": "stdout",
     "output_type": "stream",
     "text": [
      "['a', 'b', 'c']\n"
     ]
    }
   ],
   "source": [
    "# for创建\n",
    "a = ['a','b','c']\n",
    "\n",
    "#通过a创建一个新列表b\n",
    "b = [i for i in a]\n",
    "print(b)"
   ]
  },
  {
   "cell_type": "code",
   "execution_count": 14,
   "metadata": {},
   "outputs": [
    {
     "name": "stdout",
     "output_type": "stream",
     "text": [
      "[10, 20, 30, 40, 50, 60]\n"
     ]
    }
   ],
   "source": [
    "# 对a中所有元素乘以10生成一个新的列表\n",
    "a = [1,2,3,4,5,6]\n",
    "\n",
    "b = [i*10 for i in a]\n",
    "print(b)"
   ]
  },
  {
   "cell_type": "code",
   "execution_count": 16,
   "metadata": {},
   "outputs": [
    {
     "name": "stdout",
     "output_type": "stream",
     "text": [
      "[2, 4, 6, 8, 10, 12, 14, 16, 18, 20, 22, 24, 26, 28, 30, 32, 34]\n"
     ]
    }
   ],
   "source": [
    "#还可以过滤原来list中的内容放入新列表\n",
    "a = [i for i in range(1,35)]#生成一个从1到34的数字列表\n",
    "\n",
    "#把a中所有的偶数都放到新列表b中\n",
    "b = [x for x in a if x%2==0 ]\n",
    "print(b)"
   ]
  },
  {
   "cell_type": "code",
   "execution_count": 23,
   "metadata": {},
   "outputs": [
    {
     "name": "stdout",
     "output_type": "stream",
     "text": [
      "[1, 2, 3]\n",
      "[100, 200, 300]\n",
      "[101, 201, 301, 102, 202, 302, 103, 203, 303]\n",
      "101  201  301  102  202  302  103  203  303  \n",
      "[101, 201, 102, 202, 103, 203]\n"
     ]
    }
   ],
   "source": [
    "#列表生成式也可以嵌套\n",
    "a = [x for x in range(1,4)]\n",
    "print(a)\n",
    "\n",
    "b = [x for x in range(100,400) if x % 100 == 0]\n",
    "print(b)\n",
    "\n",
    "#列表中的循环嵌套\n",
    "c = [ m+n for m in a for n in b]\n",
    "print(c)\n",
    "\n",
    "#上面的代码与下面的代码等价\n",
    "for m in a:\n",
    "    for n in b:\n",
    "        print(m+n, end = \"  \")\n",
    "        \n",
    "#嵌套的列表生成式也可以使用条件表达式\n",
    "print()\n",
    "c = [ m+n for m in a for n in b if m+n < 240]\n",
    "print(c)"
   ]
  },
  {
   "cell_type": "markdown",
   "metadata": {},
   "source": [
    "## 3.5列表的函数"
   ]
  },
  {
   "cell_type": "code",
   "execution_count": 24,
   "metadata": {},
   "outputs": [
    {
     "name": "stdout",
     "output_type": "stream",
     "text": [
      "99\n"
     ]
    }
   ],
   "source": [
    "#len：求列表长度\n",
    "a = [x for x in range(1,100)]\n",
    "print(len(a))"
   ]
  },
  {
   "cell_type": "code",
   "execution_count": 26,
   "metadata": {},
   "outputs": [
    {
     "name": "stdout",
     "output_type": "stream",
     "text": [
      "99\n",
      "yang\n"
     ]
    }
   ],
   "source": [
    "#max：求列表最大值\n",
    "print(max(a))\n",
    "\n",
    "b = ['yang','guang','python']\n",
    "print(max(b))"
   ]
  },
  {
   "cell_type": "code",
   "execution_count": 27,
   "metadata": {},
   "outputs": [
    {
     "name": "stdout",
     "output_type": "stream",
     "text": [
      "['y', 'a', 'n', 'g', 'g', ' ', 'g', 'u', 'a', 'n', 'g']\n"
     ]
    }
   ],
   "source": [
    "#list:将其他数据转换为list\n",
    "#要求被转换的数据必须是可迭代的\n",
    "s = \"yangg guang\"\n",
    "b = list(s)\n",
    "print(b)"
   ]
  }
 ],
 "metadata": {
  "kernelspec": {
   "display_name": "Python 3",
   "language": "python",
   "name": "python3"
  },
  "language_info": {
   "codemirror_mode": {
    "name": "ipython",
    "version": 3
   },
   "file_extension": ".py",
   "mimetype": "text/x-python",
   "name": "python",
   "nbconvert_exporter": "python",
   "pygments_lexer": "ipython3",
   "version": "3.6.5"
  }
 },
 "nbformat": 4,
 "nbformat_minor": 2
}
