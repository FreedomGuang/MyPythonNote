{
 "cells": [
  {
   "cell_type": "markdown",
   "metadata": {},
   "source": [
    "# 2. 条件、循环和其他语句\n",
    "<hr>"
   ]
  },
  {
   "cell_type": "markdown",
   "metadata": {},
   "source": [
    "## 2.1条件和条件语句\n",
    "- 基本语法\n",
    "    \n",
    "    if 条件表达式:\n",
    "        语句1\n",
    "        ……\n",
    "     elif 条件表达式：\n",
    "         语句\n",
    "     elif 条件表达式：\n",
    "         语句\n",
    "     else ……\n",
    "- python 没有switch-case语句"
   ]
  },
  {
   "cell_type": "markdown",
   "metadata": {},
   "source": [
    "### 2.1.1 用缩进创建代码块\n",
    "- Python语言使用冒号表示代码块的开始，代码块中的每一条语句都是缩进的(缩进量相同)。\n",
    "<p>当回退到与块的的开始语句同样的缩进量时代表代码块结束"
   ]
  },
  {
   "cell_type": "code",
   "execution_count": 23,
   "metadata": {},
   "outputs": [
    {
     "name": "stdout",
     "output_type": "stream",
     "text": [
      "n == 4\n",
      "4\n"
     ]
    }
   ],
   "source": [
    "# 条件代码块示例\n",
    "n = 4\n",
    "if n == 3 :\n",
    "    print(\"n == 3\")\n",
    "elif n == 4:\n",
    "    print(\"n == 4\")\n",
    "print(n)"
   ]
  },
  {
   "cell_type": "markdown",
   "metadata": {},
   "source": [
    "### 2.1.2 布尔值和布尔变量 \n",
    "- 布尔值只有两个值：True和False\n",
    "- 在Python中，None、任何数值类型中的0、空字符串“”、空元组()、空列表[]、空字典{}都被当作False，还有自定义类型，如果实现了 /__nonzero/__ ()　或/__len/__()方法且方法返回 0 或False，则其实例也被当作False，其他对象均为True。"
   ]
  },
  {
   "cell_type": "code",
   "execution_count": 21,
   "metadata": {},
   "outputs": [
    {
     "name": "stdout",
     "output_type": "stream",
     "text": [
      "True\n",
      "True\n",
      "11\n"
     ]
    }
   ],
   "source": [
    "# 在Python底层，会将True看作1，False看作0\n",
    "print(True == 1)\n",
    "print(False == 0)\n",
    "\n",
    "# 也可以直接将True和False当1和0用\n",
    "print(True + False + 10)"
   ]
  },
  {
   "cell_type": "markdown",
   "metadata": {},
   "source": [
    "### 2.1.3 关键字None\n",
    "- 如果函数没有返回值，则返回None\n",
    "- 用来占位置\n",
    "- 用来解除变量的绑定（待定）\n",
    "<hr>"
   ]
  },
  {
   "cell_type": "markdown",
   "metadata": {},
   "source": [
    "### 2.1.4逻辑运算符\n",
    " - and 逻辑与\n",
    " - or  逻辑或\n",
    " - not 逻辑非\n",
    " - 逻辑运算符的短路是指，如果通过前面的表达式就可以得出最终结果，则不去计算后面的表达式，所有被短路的表达式均不会被输出。"
   ]
  },
  {
   "cell_type": "code",
   "execution_count": 43,
   "metadata": {},
   "outputs": [
    {
     "name": "stdout",
     "output_type": "stream",
     "text": [
      "False\n",
      "True\n",
      "False\n",
      "-------------------\n",
      "A\n",
      "D\n",
      "---------------------\n",
      "C\n",
      "ok\n"
     ]
    }
   ],
   "source": [
    "# 逻辑运算符实例\n",
    "print(True and False)\n",
    "print(False or True)\n",
    "print(not True)\n",
    "print(\"-------------------\")\n",
    "\n",
    "#逻辑运算的短路实例\n",
    "def a(): # 定义函数a,返回值为0，代表False\n",
    "    print( 'A')\n",
    "    return 0\n",
    "def b():# 定义函数b,返回值为False\n",
    "    print ('B')\n",
    "    return False\n",
    "def c():# 定义函数c,返回值为`1，代表True\n",
    "    print ('C')\n",
    "    return 1\n",
    "def d():# 定义函数d,返回值为[]，代表False\n",
    "    print ('D')\n",
    "    return []\n",
    "\n",
    "if a() and b() and c() or d():# 结果只打印了A，D。\n",
    "    print(\"ok\")\n",
    "    \n",
    "print(\"---------------------\")\n",
    "if c() or a() or b() and d():\n",
    "    print(\"ok\")"
   ]
  },
  {
   "cell_type": "markdown",
   "metadata": {},
   "source": [
    "### 2.1.5 身份运算符\n",
    "- is/is not：用来检测两个变量是否是同一个变量\n",
    "- is 与 == 区别：\n",
    "    - is 用于判断两个变量引用对象是否为同一个， == 用于判断引用变量的值是否相等。"
   ]
  },
  {
   "cell_type": "code",
   "execution_count": 47,
   "metadata": {},
   "outputs": [
    {
     "name": "stdout",
     "output_type": "stream",
     "text": [
      "True\n",
      "True\n",
      "---------------\n",
      "False\n",
      "True\n"
     ]
    }
   ],
   "source": [
    "# is与==实例\n",
    "a = 9\n",
    "b = 9\n",
    "print(a is b)\n",
    "print(a == b)\n",
    "\n",
    "print(\"---------------\")\n",
    "c = 'Hello World'\n",
    "d = 'Hello World'\n",
    "print(c is d) # c和d不是同一个对象\n",
    "print(c == d)"
   ]
  },
  {
   "cell_type": "markdown",
   "metadata": {},
   "source": [
    "### 2.1.5 断言\n",
    "- 断言（assertions)的使用方式类似于if语句，只是在不满足条件时，会直接抛出异常。\n",
    "- 在没完善一个程序之前，我们不知道程序在哪里会出错，与其让它在运行最崩溃，不如在出现错误条件时就崩溃，这时候就需要assert断言的帮助。\n",
    "- assert的异常参数，其实就是在断言表达式后添加字符串信息，用来具体描述异常。格式如下：\n",
    "<p>assert expression [, arguments]"
   ]
  },
  {
   "cell_type": "code",
   "execution_count": 54,
   "metadata": {},
   "outputs": [
    {
     "ename": "AssertionError",
     "evalue": "列表元素个数小于5",
     "output_type": "error",
     "traceback": [
      "\u001b[1;31m---------------------------------------------------------------------------\u001b[0m",
      "\u001b[1;31mAssertionError\u001b[0m                            Traceback (most recent call last)",
      "\u001b[1;32m<ipython-input-54-19e9e297a8a1>\u001b[0m in \u001b[0;36m<module>\u001b[1;34m()\u001b[0m\n\u001b[0;32m      1\u001b[0m \u001b[1;31m# 断言实例\u001b[0m\u001b[1;33m\u001b[0m\u001b[1;33m\u001b[0m\u001b[0m\n\u001b[0;32m      2\u001b[0m \u001b[0mlists\u001b[0m \u001b[1;33m=\u001b[0m \u001b[1;33m[\u001b[0m\u001b[1;36m1\u001b[0m\u001b[1;33m,\u001b[0m\u001b[1;36m2\u001b[0m\u001b[1;33m,\u001b[0m\u001b[1;36m3\u001b[0m\u001b[1;33m,\u001b[0m\u001b[1;36m4\u001b[0m\u001b[1;33m]\u001b[0m\u001b[1;33m\u001b[0m\u001b[0m\n\u001b[1;32m----> 3\u001b[1;33m \u001b[1;32massert\u001b[0m \u001b[0mlen\u001b[0m\u001b[1;33m(\u001b[0m\u001b[0mlists\u001b[0m\u001b[1;33m)\u001b[0m \u001b[1;33m>=\u001b[0m\u001b[1;36m5\u001b[0m\u001b[1;33m,\u001b[0m\u001b[1;34m'列表元素个数小于5'\u001b[0m\u001b[1;33m\u001b[0m\u001b[0m\n\u001b[0m",
      "\u001b[1;31mAssertionError\u001b[0m: 列表元素个数小于5"
     ]
    }
   ],
   "source": [
    "# 断言实例\n",
    "lists = [1,2,3,4]\n",
    "assert len(lists) >=5,'列表元素个数小于5'"
   ]
  },
  {
   "cell_type": "markdown",
   "metadata": {},
   "source": [
    "## 2.2神奇的print函数\n",
    "- print函数默认空格为分隔符，可以通过修改参数指定分隔符，例如指定逗号为分隔符：print(\"arg1\",\"arg2\",\"arg3\",sep = \",\")\n",
    "- print函数默认会在字符串尾部添加换行符，如果不想换行，也可以在最后加一个'end = \" \" '，让结尾符变为空格。"
   ]
  },
  {
   "cell_type": "code",
   "execution_count": 66,
   "metadata": {},
   "outputs": [
    {
     "name": "stdout",
     "output_type": "stream",
     "text": [
      "a b c\n",
      "a,b,c\n",
      "Hello World\n"
     ]
    }
   ],
   "source": [
    "# print函数示例\n",
    "\n",
    "# 输出用默认的空格分隔符\n",
    "print(\"a\",\"b\",\"c\")\n",
    "# 输出用逗号分隔\n",
    "print(\"a\",\"b\",\"c\",sep=\",\")\n",
    "# 输出用空格结尾\n",
    "print(\"Hello\",end= \" \")\n",
    "print(\"World\")\n"
   ]
  },
  {
   "cell_type": "markdown",
   "metadata": {},
   "source": [
    "## 2.3 循环\n",
    " - for循环\n",
    " - while循环\n"
   ]
  },
  {
   "cell_type": "markdown",
   "metadata": {},
   "source": [
    "### 2.3.1 for循环"
   ]
  },
  {
   "cell_type": "code",
   "execution_count": 63,
   "metadata": {},
   "outputs": [
    {
     "name": "stdout",
     "output_type": "stream",
     "text": [
      "1 2 3 4 \n",
      "this is while for if "
     ]
    }
   ],
   "source": [
    "# for循环实例\n",
    "#range练习\n",
    "#range左闭右开\n",
    "for i in range(1,5):# 用range函数生成元素值为1-4的列表，并进行迭代\n",
    "    print(i,end=\" \")\n",
    "print()\n",
    "\n",
    "keywords = [\"this\",\"is\",\"while\",\"for\",\"if\"] # 定义一个字符串列表\n",
    "for keyword in keywords: # 用for循环输出列表中的元素\n",
    "    print(keyword,end=\" \")"
   ]
  },
  {
   "cell_type": "markdown",
   "metadata": {},
   "source": [
    "### 2.3.2for-else语句\n",
    "- for循环结束后用else语句执行最后的语句\n",
    "- else 一般用来查看循环是正常结束还是中途通过continue或者break跳出"
   ]
  },
  {
   "cell_type": "code",
   "execution_count": 64,
   "metadata": {},
   "outputs": [
    {
     "name": "stdout",
     "output_type": "stream",
     "text": [
      "1\n",
      "2\n",
      "3\n",
      "4\n",
      "40\n"
     ]
    }
   ],
   "source": [
    "for i in range(1,5):\n",
    "    print(i)\n",
    "else: print(10*i) "
   ]
  },
  {
   "cell_type": "markdown",
   "metadata": {},
   "source": [
    "### 2.3.3 循环之break，continue，pass\n",
    "- break：无条件结束整个循环\n",
    "- continue：无条件结束本次循环，进入下一次循环\n",
    "- Python中pass是空语句，是为了保持程序结构的完整性。pass 不做任何事情，一般用做占位语句。"
   ]
  },
  {
   "cell_type": "code",
   "execution_count": 65,
   "metadata": {},
   "outputs": [],
   "source": [
    "# pass实例\n",
    "for i in range(1,11):\n",
    "    pass\n",
    "# pass只是占位"
   ]
  },
  {
   "cell_type": "markdown",
   "metadata": {},
   "source": [
    "### 2.3.4 while 循环\n",
    "- 一般不知道循环次数时使用while循环\n",
    "    \n",
    "      while 循环条件：\n",
    "         循环块\n",
    "         \n",
    "      while 循环条件：\n",
    "          循环块\n",
    "      else ：\n",
    "          语句 #只执行一次，类似于for-else"
   ]
  },
  {
   "cell_type": "code",
   "execution_count": 62,
   "metadata": {},
   "outputs": [
    {
     "name": "stdout",
     "output_type": "stream",
     "text": [
      "1\n",
      "2\n",
      "3\n",
      "4\n",
      "5\n"
     ]
    }
   ],
   "source": [
    "#while循环演示\n",
    "x = 1\n",
    "while x<=5:\n",
    "    print(x)\n",
    "    x += 1 # 这句相当于x = x+1"
   ]
  }
 ],
 "metadata": {
  "kernelspec": {
   "display_name": "Python 3",
   "language": "python",
   "name": "python3"
  },
  "language_info": {
   "codemirror_mode": {
    "name": "ipython",
    "version": 3
   },
   "file_extension": ".py",
   "mimetype": "text/x-python",
   "name": "python",
   "nbconvert_exporter": "python",
   "pygments_lexer": "ipython3",
   "version": "3.6.5"
  }
 },
 "nbformat": 4,
 "nbformat_minor": 2
}
