{
 "cells": [
  {
   "cell_type": "markdown",
   "metadata": {},
   "source": [
    "# 4.tuple（元组）\n",
    "- 元组可以看作是一个不可更改的list，元组是只读的。\n",
    "<hr>"
   ]
  },
  {
   "cell_type": "markdown",
   "metadata": {},
   "source": [
    "## 4.1元组创建"
   ]
  },
  {
   "cell_type": "code",
   "execution_count": 2,
   "metadata": {},
   "outputs": [
    {
     "name": "stdout",
     "output_type": "stream",
     "text": [
      "<class 'tuple'>\n",
      "<class 'tuple'>\n",
      "<class 'int'>\n",
      "(1, 2, 3, 4, 5, 6)\n",
      "(20, 20, 20, 20, 20)\n"
     ]
    }
   ],
   "source": [
    "#创建一个空元组\n",
    "t = ()\n",
    "print(type(t))\n",
    "\n",
    "#创建一个只有一个元素的元组\n",
    "t1 = (1,)\n",
    "print(type(t1))\n",
    "\n",
    "t2 = (1)\n",
    "print(type(t2))#所以说必须有逗号\n",
    "\n",
    "#使用其他结构创建\n",
    "l = [1,2,3,4,5,6]\n",
    "t3 = tuple(l)\n",
    "print(t3)\n",
    "\n",
    "#生成5个同样值的元组\n",
    "print(5 * (20,))"
   ]
  },
  {
   "cell_type": "markdown",
   "metadata": {},
   "source": [
    "### 为什么要使用元组：\n",
    "#### 1.元组可以在映射中作为键值使用，而列表不能。\n",
    "#### 2.很多内建函数和方法的返回值就是元组，若使用这些方法或函数的返回值，就必须使用元组"
   ]
  },
  {
   "cell_type": "markdown",
   "metadata": {},
   "source": [
    "## 元组的特性\n",
    "- 是序列表，有序\n",
    "- 元组数据可以访问，但不能修改"
   ]
  },
  {
   "cell_type": "code",
   "execution_count": 16,
   "metadata": {},
   "outputs": [
    {
     "name": "stdout",
     "output_type": "stream",
     "text": [
      "2581893905576\n",
      "2581869287272\n",
      "(1, 2, 3, 4, 5, 6)\n"
     ]
    }
   ],
   "source": [
    "#索引操作\n",
    "#切片操作\n",
    "#序列相加\n",
    "t1 = (1,2,3)\n",
    "t2 = (4,5,6)\n",
    "print(id(t1))\n",
    "t1 = t1 + t2#此处并不是修改，而是指向了新的地址\n",
    "print(id(t1))\n",
    "print(t1)"
   ]
  },
  {
   "cell_type": "code",
   "execution_count": 18,
   "metadata": {},
   "outputs": [
    {
     "name": "stdout",
     "output_type": "stream",
     "text": [
      "(1, 2, 3, 1, 2, 3, 1, 2, 3)\n"
     ]
    }
   ],
   "source": [
    "#序列相乘\n",
    "t1 = (1,2,3)\n",
    "t2 = t1 * 3#同样，此处只是指向了新地址\n",
    "print(t2)"
   ]
  },
  {
   "cell_type": "code",
   "execution_count": 19,
   "metadata": {},
   "outputs": [
    {
     "name": "stdout",
     "output_type": "stream",
     "text": [
      "True\n",
      "False\n"
     ]
    }
   ],
   "source": [
    "#成员检测\n",
    "t = (1,2,3,4,5)\n",
    "print(2 in t)\n",
    "print(3 not in t)"
   ]
  },
  {
   "cell_type": "code",
   "execution_count": 22,
   "metadata": {},
   "outputs": [
    {
     "name": "stdout",
     "output_type": "stream",
     "text": [
      "1 2 3 4 5 "
     ]
    }
   ],
   "source": [
    "#元组遍历，一般采用for\n",
    "#单层元组遍历\n",
    "for i in t:\n",
    "    print(i, end = ' ')\n",
    "    \n",
    "#双层元组遍历"
   ]
  },
  {
   "cell_type": "code",
   "execution_count": 26,
   "metadata": {},
   "outputs": [
    {
     "name": "stdout",
     "output_type": "stream",
     "text": [
      "4\n",
      "**************************************************\n",
      "4\n",
      "1\n",
      "1\n"
     ]
    }
   ],
   "source": [
    "#元组函数\n",
    "t = (1,2,3,4)\n",
    "# len\n",
    "print(len(t))\n",
    "print('*' * 50)\n",
    "\n",
    "# max,min\n",
    "print(max(t))\n",
    "\n",
    "#count 计算指定元素出现的次数\n",
    "print(t.count(2))\n",
    "\n",
    "#index 求处指定元素的索引位置\n",
    "print(t.index(2))"
   ]
  },
  {
   "cell_type": "markdown",
   "metadata": {},
   "source": [
    "## 元组变量交换法\n",
    "- 两个变量交换值"
   ]
  },
  {
   "cell_type": "code",
   "execution_count": 3,
   "metadata": {},
   "outputs": [
    {
     "name": "stdout",
     "output_type": "stream",
     "text": [
      "2 1\n",
      "1 2\n"
     ]
    }
   ],
   "source": [
    "a = 1 \n",
    "b = 2\n",
    "\n",
    "#交换a,b的值\n",
    "#java写法\n",
    "c = a \n",
    "a = b\n",
    "b = c\n",
    "print(a,b)\n",
    "\n",
    "#python 写法\n",
    "(a, b) = (b, a) \n",
    "print(a,b)"
   ]
  }
 ],
 "metadata": {
  "kernelspec": {
   "display_name": "Python 3",
   "language": "python",
   "name": "python3"
  },
  "language_info": {
   "codemirror_mode": {
    "name": "ipython",
    "version": 3
   },
   "file_extension": ".py",
   "mimetype": "text/x-python",
   "name": "python",
   "nbconvert_exporter": "python",
   "pygments_lexer": "ipython3",
   "version": "3.6.5"
  }
 },
 "nbformat": 4,
 "nbformat_minor": 2
}
