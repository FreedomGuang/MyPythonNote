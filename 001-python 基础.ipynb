{
 "cells": [
  {
   "cell_type": "markdown",
   "metadata": {},
   "source": [
    "# 1.1 Python程序中的基本要素"
   ]
  },
  {
   "cell_type": "markdown",
   "metadata": {},
   "source": [
    "## 1.1.1 导入Python模块\n",
    "<hr>\n",
    "<p>- 在Python代码中导入模块需要使用import语句，语法结构如下：import module_name</p>\n",
    "<p>- 引入模块中函数的语法如下：module_name.function_name </p>\n",
    "<p>- 如果需要大量使用某些函数，用上面的方法就会很麻烦，可以使用from...import...语句，这样就可以直接使用函数，而不需要在函数前面加模块名</p>\n",
    "<p> 语法如下：from module_name import function_name</p>\n",
    "<p> 如果调用的函数多，可以用星号（*）替换function_name\n",
    "<hr> "
   ]
  },
  {
   "cell_type": "code",
   "execution_count": 41,
   "metadata": {},
   "outputs": [
    {
     "name": "stdout",
     "output_type": "stream",
     "text": [
      "20\n",
      "3.4641016151377544\n",
      "0.9999996829318346\n"
     ]
    }
   ],
   "source": [
    "# import演示\n",
    "\n",
    "#导入math模块\n",
    "import math\n",
    "print(math.floor(20.6))\n",
    "\n",
    "#导入math中的sqt函数\n",
    "from math import sqrt\n",
    "print(sqrt(12))\n",
    "\n",
    "#导入math中所有函数\n",
    "from math import *\n",
    "print(sin(3.14/2))"
   ]
  },
  {
   "cell_type": "markdown",
   "metadata": {},
   "source": [
    "## 1.1.2变量类型\n",
    " - 严格来讲，python只有一个类型，纯面向对象\n",
    " - 标准数据类型\n",
    "   - 数字类型 num\n",
    "   - 字符串类型 str\n",
    "   - 列表 list\n",
    "   - 元组 tuple\n",
    "   - 字典 dictionary\n",
    "   - 集合 set"
   ]
  },
  {
   "cell_type": "markdown",
   "metadata": {},
   "source": [
    "## 1.1.3 变量声明\n",
    "- 在Python中声明变量非常简单，因为不需要声明变量的类型，其语法如下：\n",
    "<p> variable_name = variable_value <p/>\n",
    "- 在Python中变量还可以多个同时赋值\n",
    "    - var1 = var2 = var3 = var_value\n",
    "    - var1,var2,var3 = v1,v2,v3\n",
    "    <hr>\n",
    "- 注意声明变量时变量名称不要使用关键字"
   ]
  },
  {
   "cell_type": "code",
   "execution_count": 42,
   "metadata": {},
   "outputs": [
    {
     "name": "stdout",
     "output_type": "stream",
     "text": [
      "['False', 'None', 'True', 'and', 'as', 'assert', 'break', 'class', 'continue', 'def', 'del', 'elif', 'else', 'except', 'finally', 'for', 'from', 'global', 'if', 'import', 'in', 'is', 'lambda', 'nonlocal', 'not', 'or', 'pass', 'raise', 'return', 'try', 'while', 'with', 'yield']\n"
     ]
    }
   ],
   "source": [
    "#查看关键字方法\n",
    "import keyword #引入关键字模块\n",
    "print(keyword.kwlist)"
   ]
  },
  {
   "cell_type": "code",
   "execution_count": 43,
   "metadata": {},
   "outputs": [
    {
     "name": "stdout",
     "output_type": "stream",
     "text": [
      "True\n",
      "3.14\n",
      "Hello World\n",
      "10 20 30\n"
     ]
    }
   ],
   "source": [
    "flag = True               # 声明布尔类型变量\n",
    "f = 3.14                  # 声明浮点类型变量\n",
    "s = \"Hello World\"         #声明字符串类型变量\n",
    "age1,age2,age3 = 10,20,30 #三个变量同时赋值\n",
    "\n",
    "print(flag)\n",
    "print(f)\n",
    "print(s)\n",
    "print(age1,age2,age3)"
   ]
  },
  {
   "cell_type": "markdown",
   "metadata": {},
   "source": [
    "# 1.2 数字\n",
    "<hr>\n",
    "\n",
    "## 1.2.1基础知识\n",
    "   - python除了支持四则运算,圆括号运算外，还提供了三个特殊运算符：\n",
    "       - %（取余运算符）\n",
    "       - **（幂运算符）\n",
    "       - //（整除运算符）\n",
    "   - python 中没有自增自减运算符"
   ]
  },
  {
   "cell_type": "code",
   "execution_count": 44,
   "metadata": {},
   "outputs": [
    {
     "name": "stdout",
     "output_type": "stream",
     "text": [
      "幂运算： 1000\n",
      "取余运算： 1\n",
      "整除运算： 3\n"
     ]
    }
   ],
   "source": [
    "#运算符示例\n",
    "a = 3\n",
    "b = 10\n",
    "print(\"幂运算：\",  b ** a)\n",
    "print(\"取余运算：\", b % a)\n",
    "print(\"整除运算：\",  b//a)"
   ]
  },
  {
   "cell_type": "markdown",
   "metadata": {},
   "source": [
    "## 1.2.2 大整数\n",
    "- python语言中使用数字不用担心溢出，因为python语言可以处理非常大的数字，这也是为什么很多人喜欢用python进行科学计算和数据分析。"
   ]
  },
  {
   "cell_type": "code",
   "execution_count": 45,
   "metadata": {},
   "outputs": [
    {
     "name": "stdout",
     "output_type": "stream",
     "text": [
      "4149515568880992958512407863691161151012446232242436899995657329690652811412908146399707048947103794288197886611300789182395151075411775307886874834113963687061181803401509523685376\n"
     ]
    }
   ],
   "source": [
    "print(2 ** 600) "
   ]
  },
  {
   "cell_type": "markdown",
   "metadata": {},
   "source": [
    "## 1.2.3 二进制，八进制和十六进制\n",
    "- 表示这三个进制，必须以0开头，然后分别跟着表示不同进制的字母\n",
    "    - 表示二进制：  0b1001\n",
    "    - 表示八进制：  0o3253\n",
    "    - 表示十六进制：0xF12A\n",
    "- python提供了一些函数可以把十进制数转换为其他进制数，它们分别是bin,oct,hex，这些函数也可用于相互转换。\n",
    "- 如果想把其他进制数转换为十进制数，可以使用int函数\n",
    "    - 第一个参数是字符串类型，表示其他进制数，不用加前缀\n",
    "    - 第二个参数是整数类型，表示第一个参数的进制"
   ]
  },
  {
   "cell_type": "code",
   "execution_count": 46,
   "metadata": {},
   "outputs": [
    {
     "name": "stdout",
     "output_type": "stream",
     "text": [
      "52\n",
      "668\n",
      "250\n",
      "------------------\n",
      "0b1100\n",
      "0o26\n",
      "0x20b\n",
      "------------------\n",
      "3874\n",
      "0b11110011\n"
     ]
    }
   ],
   "source": [
    "# 进制转换示例\n",
    "\n",
    "# print可以自动将带前缀的其他进制数转换为十进制数输出\n",
    "print(0b110100) # 二进制转十进制\n",
    "print(0o1234)   # 八进制转十进制\n",
    "print(0xFA)     # 十六进制转十进制\n",
    "print(\"------------------\")\n",
    "print(bin(12))  # 十进制转二进制\n",
    "print(oct(22))  # 十进制转八进制\n",
    "print(hex(523)) # 十进制转十六进制\n",
    "print(\"------------------\")\n",
    "print(int(\"F22\",16)) # 十六进制转十进制\n",
    "print(bin(0xF3)) # 十六进制转二进制"
   ]
  },
  {
   "cell_type": "markdown",
   "metadata": {},
   "source": [
    "## 1.2.4 数字的格式化输出\n",
    "- python 提供了format函数对数字进行格式化\n",
    "    - 第一个参数是要格式化的数字\n",
    "    - 第二个参数是格式字符串"
   ]
  },
  {
   "cell_type": "code",
   "execution_count": 47,
   "metadata": {},
   "outputs": [
    {
     "name": "stdout",
     "output_type": "stream",
     "text": [
      "1234.57\n",
      "      1234.6\n",
      "0000001234.6\n",
      "  1234.57   \n",
      "1,234.56789\n",
      "1,234.57\n",
      "1.234568e+03\n",
      "1.23e+03\n"
     ]
    }
   ],
   "source": [
    "# 函数format示例\n",
    "x = 1234.56789\n",
    "\n",
    "print(format(x,'0.2f'))# 小数点后保留两位数\n",
    "print(format(x,'>12.1f'))# 数字在12个字符长度的区域右对齐，并保留小数点后1位数字\n",
    "print(format(x,'0>12.1f'))# 数字在12个字符长度的区域右对齐，并保留小数点后1位数字，数字前面补0\n",
    "print(format(x,'^12.2f')) # 数字在12个字符长度的区域中心对齐，并保留小数点后2位数字\n",
    "print(format(x,',')) # 每千位用逗号分隔\n",
    "print(format(x,',.2f')) # 每千位用逗号分隔，并保留2位小数\n",
    "print(format(x,'e')) # 用科学计数法形式输出数字\n",
    "print(format(x,'0.2e')) # 用科学计数法形式输出数字"
   ]
  },
  {
   "cell_type": "markdown",
   "metadata": {},
   "source": [
    "# 1.3注释\n",
    "- 单行注释\n",
    "- 多行注释，也称块注释"
   ]
  },
  {
   "cell_type": "markdown",
   "metadata": {},
   "source": [
    "## 1.3.1单行注释\n",
    "* 单行注释用井号（#）开头\n",
    "* 有时声明字符集时也会用到注释，例如：# coding=utf-8"
   ]
  },
  {
   "cell_type": "markdown",
   "metadata": {},
   "source": [
    "## 1.3.2 多行注释：\n",
    "- 以三个单引号或者三个双引号开头结尾\n",
    "- 但是三个引号不仅可以作为注释，还能进行多行赋值"
   ]
  },
  {
   "cell_type": "code",
   "execution_count": 48,
   "metadata": {},
   "outputs": [
    {
     "data": {
      "text/plain": [
       "'\\n    这也是注释块\\n'"
      ]
     },
     "execution_count": 48,
     "metadata": {},
     "output_type": "execute_result"
    }
   ],
   "source": [
    "'''\n",
    "    这是注释块\n",
    "    \n",
    "'''\n",
    "\"\"\"\n",
    "    这也是注释块\n",
    "\"\"\""
   ]
  },
  {
   "cell_type": "markdown",
   "metadata": {},
   "source": [
    "## 1.4 字符串基础\n",
    "- 字符串可以使用双引号或单引号将值括起来\n",
    "- 单双引号括起来的值没有任何区别，只不过为了方便，例如：\n",
    "<p> Let's go 不能用单引号括起来，否则计算机无法区分中间的单引号，此时就可以用双引号把它括起来，同理可以输出双引号 <p/>\n",
    "- 如果同时输出双引号和单引号则可以使用转义符\"\\\";\n"
   ]
  },
  {
   "cell_type": "code",
   "execution_count": 49,
   "metadata": {},
   "outputs": [
    {
     "name": "stdout",
     "output_type": "stream",
     "text": [
      "Let's go \"一起走天涯\"\n"
     ]
    }
   ],
   "source": [
    "# 转义符实例\n",
    "print('Let\\'s go \"一起走天涯\"') #转义符告诉Python反斜杠后面是字符串的一部分，而不是引号"
   ]
  },
  {
   "cell_type": "markdown",
   "metadata": {},
   "source": [
    "### 1.4.1拼接字符串\n",
    "- 就是将多个短字符串拼接成一个长字符串"
   ]
  },
  {
   "cell_type": "code",
   "execution_count": 50,
   "metadata": {},
   "outputs": [
    {
     "name": "stdout",
     "output_type": "stream",
     "text": [
      "HelloWorld你好师姐\n",
      "HelloWorld\n"
     ]
    }
   ],
   "source": [
    "# 字符串拼接示例\n",
    "print('Hello' 'World' '你好师姐')\n",
    "\n",
    "x = 'Hello'\n",
    "y = 'World'\n",
    "print(x + y)\n"
   ]
  },
  {
   "cell_type": "markdown",
   "metadata": {},
   "source": [
    "### 1.4.2 转义字符\n",
    "- 一些字母前加\"\\\"来表示常见的那些不能显示的ASCII字符，如\\0,\\t,\\n等，就称为转义字符，因为后面的字符，都不是它本来的ASCII字符意思了。\n",
    "- 我们常用的换行符，不同操作系统对其有不同的表示\n",
    "   - windows ： \\n\n",
    "   - linux :  \\r\\n\n",
    "- 若想了解更多的转义字符，可以查看字符表"
   ]
  },
  {
   "cell_type": "code",
   "execution_count": 51,
   "metadata": {},
   "outputs": [
    {
     "name": "stdout",
     "output_type": "stream",
     "text": [
      "1234\n",
      "5678\n",
      "---------------------------------\n",
      "'Hello\\nWorld'\n",
      "Hello\\nWorld\n",
      "Hello\\nWorld\n"
     ]
    }
   ],
   "source": [
    "# 字符串拼接示例2之转义字符\n",
    "print(\"1234\" + '\\n' + \"5678\")\n",
    "\n",
    "print(\"---------------------------------\")\n",
    "# 如果想打印转义字符怎么办\n",
    "print(repr(\"Hello\\nWorld\")) # 通过repr函数输出的字符串会保持不变，但是会用单引号括起来\n",
    "print(\"Hello\\\\nWorld\") # 也可以使用转义符将转义符转义\n",
    "print(r\"Hello\\nWorld\") # 通过在字符串前加r也会使字符串保持不变"
   ]
  },
  {
   "cell_type": "markdown",
   "metadata": {},
   "source": [
    "#### 总结一下如果让一个字符串按原始内容输出，有三种方法：\n",
    "- 1.repr函数\n",
    "- 2.使用转义符\n",
    "- 3.在字符串前加r\n"
   ]
  },
  {
   "cell_type": "markdown",
   "metadata": {},
   "source": [
    "### 1.4.3 字符串的格式化"
   ]
  },
  {
   "cell_type": "code",
   "execution_count": 52,
   "metadata": {},
   "outputs": [
    {
     "name": "stdout",
     "output_type": "stream",
     "text": [
      "i am 光\n",
      "i am 18 years old\n",
      "i am 光, i am 18 years old\n"
     ]
    }
   ],
   "source": [
    "# 字符串的格式化\n",
    "print('i am %s'%'光')\n",
    "s1 = 'i am %d years old'\n",
    "print(s1%18)\n",
    "s2 = 'i am %s, i am %d years old'\n",
    "print(s2%('光',18))# 替换多个用括号括起来"
   ]
  },
  {
   "cell_type": "markdown",
   "metadata": {},
   "source": [
    "### 1.4.4 format 函数格式化字符串"
   ]
  },
  {
   "cell_type": "code",
   "execution_count": 53,
   "metadata": {},
   "outputs": [
    {
     "name": "stdout",
     "output_type": "stream",
     "text": [
      "i am 光\n",
      "i am 18 years old, i am 光, again, i am 18 years old \n"
     ]
    }
   ],
   "source": [
    "# format 函数格式化示例\n",
    "s3 = 'i am {}'.format('光')\n",
    "print(s3)\n",
    "s4 = 'i am {1} years old, i am {0}, again, i am {1} years old '# 大括号内标号表示顺序\n",
    "print(s4.format('光',18))"
   ]
  },
  {
   "cell_type": "markdown",
   "metadata": {},
   "source": [
    "### 1.4.5 长字符串"
   ]
  },
  {
   "cell_type": "code",
   "execution_count": 54,
   "metadata": {},
   "outputs": [
    {
     "name": "stdout",
     "output_type": "stream",
     "text": [
      "hello world\n",
      "hahaha      \n",
      "        \n",
      "Let's go \"一起闯天涯\"\n"
     ]
    }
   ],
   "source": [
    "# 长字符串示例\n",
    "html =  '''hello world\n",
    "hahaha      \n",
    "        '''\n",
    "print(html)\n",
    "# 长字符串之间可以混合使用单双引号\n",
    "print(\"\"\"Let's go \"一起闯天涯\\\"\"\"\")\n"
   ]
  }
 ],
 "metadata": {
  "kernelspec": {
   "display_name": "Python 3",
   "language": "python",
   "name": "python3"
  },
  "language_info": {
   "codemirror_mode": {
    "name": "ipython",
    "version": 3
   },
   "file_extension": ".py",
   "mimetype": "text/x-python",
   "name": "python",
   "nbconvert_exporter": "python",
   "pygments_lexer": "ipython3",
   "version": "3.6.5"
  }
 },
 "nbformat": 4,
 "nbformat_minor": 2
}
