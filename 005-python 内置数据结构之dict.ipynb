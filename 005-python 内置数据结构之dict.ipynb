{
 "cells": [
  {
   "cell_type": "markdown",
   "metadata": {},
   "source": [
    "# 5.字典结构\n",
    "- 字典是python语言中唯一的映射类型\n",
    "- 字典是一种无序的组合数据，是由键值对组成\n",
    "- 在字典中，键是唯一的，如果键不唯一，那么值将被覆盖"
   ]
  },
  {
   "cell_type": "markdown",
   "metadata": {},
   "source": [
    "<hr>\n",
    "## 5.1 字典的创建"
   ]
  },
  {
   "cell_type": "code",
   "execution_count": 18,
   "metadata": {},
   "outputs": [
    {
     "name": "stdout",
     "output_type": "stream",
     "text": [
      "<class 'dict'>\n",
      "<class 'dict'>\n",
      "{1: 'yang', 2: 'guang', 3: 'python'}\n",
      "{'yang': 1, 'guang': 2, 'python': 3}\n",
      "<class 'set'>\n",
      "{('yang', 2), ('guang', 1), ('python', 3)}\n",
      "{'guang': 1, 'yang': 2, 'python': 3}\n"
     ]
    }
   ],
   "source": [
    "#字典的创建\n",
    "d = {}\n",
    "print(type(d))\n",
    "\n",
    "d2 = dict()\n",
    "print(type(d2))\n",
    "\n",
    "d3 = {1:'hello',2:'world',3:'python'}\n",
    "print(d3)\n",
    "\n",
    "# dict函数可以通过关键字参数创建字典\n",
    "d4 = dict(hello=1, world=2, python=3)\n",
    "print(d4)\n",
    "\n",
    "d5 = {('hello',1),('world',2),('python',3)}\n",
    "print(type(d5))\n",
    "print(d5)\n",
    "\n",
    "d6 = dict([('hello',1),('world',2),('python',3)])\n",
    "print(d6)"
   ]
  },
  {
   "cell_type": "markdown",
   "metadata": {},
   "source": [
    "## 5.2 字典的遍历"
   ]
  },
  {
   "cell_type": "code",
   "execution_count": 2,
   "metadata": {},
   "outputs": [
    {
     "name": "stdout",
     "output_type": "stream",
     "text": [
      "-----------------\n",
      "1 hello\n",
      "2 world\n",
      "3 python\n",
      "-----------------\n",
      "1 hello\n",
      "2 world\n",
      "3 python\n",
      "-----------------\n",
      "hello\n",
      "world\n",
      "python\n",
      "-----------------\n",
      "1 --- hello\n",
      "2 --- world\n",
      "3 --- python\n"
     ]
    }
   ],
   "source": [
    "#字典的遍历\n",
    "d = {1:'hello',2:'world',3:'python'}\n",
    "print(\"-----------------\")\n",
    "#第一种\n",
    "for k in d:\n",
    "    print(k, d[k])\n",
    "print(\"-----------------\")    \n",
    "#还可以更明确些\n",
    "for k in d.keys():\n",
    "    print(k, d[k])\n",
    "print(\"-----------------\")\n",
    "#只访问字典的值\n",
    "for v in d.values():\n",
    "    print(v)\n",
    "print(\"-----------------\")    \n",
    "#第二种\n",
    "for k,v in d.items():\n",
    "    print(k, '---', v)"
   ]
  },
  {
   "cell_type": "markdown",
   "metadata": {},
   "source": [
    "## 5.3 字典生成式"
   ]
  },
  {
   "cell_type": "code",
   "execution_count": 4,
   "metadata": {},
   "outputs": [
    {
     "name": "stdout",
     "output_type": "stream",
     "text": [
      "{1: 'hello', 2: 'world', 3: 'python'}\n",
      "{1: 'hello', 3: 'python'}\n"
     ]
    }
   ],
   "source": [
    "d = {1:'hello',2:'world',3:'python'}\n",
    "dd = {k:v for k,v in d.items() }\n",
    "print(dd)\n",
    "\n",
    "#加限制条件的字典生成式\n",
    "ddd = {k:v for k,v in dd.items() if k%2 == 1}\n",
    "print(ddd)"
   ]
  },
  {
   "cell_type": "markdown",
   "metadata": {},
   "source": [
    "## 5.4 字典的基本操作：\n",
    "- len(dict):返回字典dict中元素的数量\n",
    "- dict[key]:返回关联到键key上的值，对于列表，key就是索引\n",
    "- dict[key]=value:将值value关联到键key上\n",
    "- del dict[key]:删除键为key的项\n",
    "- key in dict:检查是否有该键"
   ]
  },
  {
   "cell_type": "code",
   "execution_count": 14,
   "metadata": {},
   "outputs": [
    {
     "name": "stdout",
     "output_type": "stream",
     "text": [
      "{20: 'Bill', 'Mike': {'age': 30, 'salary': 3000}, (12, 'Mike', True): 'hello'}\n",
      "3\n",
      "{'Mike': {'age': 30, 'salary': 3000}, (12, 'Mike', True): 'hello'}\n",
      "False\n"
     ]
    }
   ],
   "source": [
    "# 字典基本操作实例\n",
    "d = {}                               # 定义一个字典\n",
    "d[20] = \"Bill\"                       # 向字典中添加整数类型的key\n",
    "d[\"Mike\"] = {\"age\":30,\"salary\":3000} # 向字典中添加字符串类型的key\n",
    "d[(12,'Mike',True)] = \"hello\"        # 向字典中添加元组类型的key\n",
    "print(d)                             # 输出字典中的所有元素\n",
    "\n",
    "print(len(d))                        #输出字典元素数量（键值对的个数）\n",
    "del d[20]                            # 删除字典中的元素  \n",
    "print(d)\n",
    "print(20 in d)                       # 检查d中是否有20这个键"
   ]
  },
  {
   "cell_type": "markdown",
   "metadata": {},
   "source": [
    "### 字典和列表的区别：\n",
    "- 键类型：字典的键可以是任意不可变类型，而列表中的索引只能是整数类型\n",
    "- 自动添加：字典可以通过键值自动添加新的项，进行dict[key] = value时，如果字典中没有该键，则会在dict中添加新的键值对。而在列表中只能通过insert或append方法添加新元素。\n",
    "- 查找成员：在字典中使用key in dict操作，查找的是key，而不是value。在列表中使用key in dict操作，查找的是值，而不是索引。对于列表来说，key就代表值。"
   ]
  },
  {
   "cell_type": "markdown",
   "metadata": {},
   "source": [
    "## 5.5 字典方法\n",
    "- clear 清空\n",
    "- copy 浅拷贝； deepcopy函数 深拷贝\n",
    "- fromkeys 根据key建立新的字典\n",
    "- get 用于更宽松的方式从字典中获取key对应的value\n",
    "- items 用于返回字典中所有的键值对\n",
    "- keys 用与返回字典中所有的key\n",
    "- pop 用于获取指定key的值，并从字典中弹出这个键值对\n",
    "- popitem 用于返回字典中最后一个键值对\n",
    "- setdefault 用于设置key的默认值\n",
    "- update 用一个字典更新另一个字典\n",
    "- values 用于以迭代器形式返回字典中值的列表"
   ]
  },
  {
   "cell_type": "code",
   "execution_count": 19,
   "metadata": {},
   "outputs": [
    {
     "name": "stdout",
     "output_type": "stream",
     "text": [
      "{1: 'hello', 2: 'world', 3: 'python'}\n",
      "{1: 'hello', 2: 'world', 3: 'python'}\n",
      "{}\n"
     ]
    }
   ],
   "source": [
    "# clear方法实例\n",
    "d1 = {1: 'hello', 2: 'world', 3: 'python'}\n",
    "d2 = d1                      # 让d1和d2指向同一个地址\n",
    "d1 = {}                      # d1重新设为空字典\n",
    "print(d2)                    # d2没有受到影响\n",
    "\n",
    "d3 = d2                      # 让d3和d2指向同一个地址\n",
    "print(d3)                    \n",
    "d2.clear()                   # 清空d2\n",
    "print(d3)                    # 此时d3也受到了影响"
   ]
  },
  {
   "cell_type": "markdown",
   "metadata": {},
   "source": [
    "#### copy方法复制的字典只是浅拷贝，只复制了第一层的字典数据，至于第二层以及以下所有层，原字典和新字典都指向同一个地址。"
   ]
  },
  {
   "cell_type": "code",
   "execution_count": 27,
   "metadata": {},
   "outputs": [
    {
     "name": "stdout",
     "output_type": "stream",
     "text": [
      "person1 {'name': 'Bill', 'age': 30, 'fullname': ['Bill', 'Gates']}\n",
      "person2 {'name': 'Bill', 'age': 30, 'fullname': ['Bill', 'Gates']}\n",
      "修改第一层元素\n",
      "person1 {'name': 'Bill', 'age': 50, 'fullname': ['Bill', 'Gates']}\n",
      "person2 {'name': 'Bill', 'age': 30, 'fullname': ['Bill', 'Gates']}\n",
      "修改第二层元素\n",
      "person1 {'name': 'Bill', 'age': 50, 'fullname': ['Bill', 'Clinton']}\n",
      "person2 {'name': 'Bill', 'age': 30, 'fullname': ['Bill', 'Clinton']}\n",
      "深层复制\n",
      "{'name': 'Bill', 'age': 30, 'fullname': ['Bill', 'Clinton']}\n",
      "修改第二层数据\n",
      "person3 {'name': 'Bill', 'age': 30, 'fullname': ['Bill', 'Clinton']}\n",
      "person2 {'name': 'Bill', 'age': 30, 'fullname': ['Bill', 'Gates']}\n"
     ]
    }
   ],
   "source": [
    "# copy方法与deepcopy函数实例\n",
    "person1 = {\"name\":\"Bill\",\"age\":30,\"fullname\":[\"Bill\",\"Gates\"]}\n",
    "person2 = person1.copy()                       # 进行浅复制\n",
    "print(\"person1\",person1)\n",
    "print(\"person2\",person2)\n",
    "\n",
    "print(\"修改第一层元素\")\n",
    "person1[\"age\"] = 50\n",
    "print(\"person1\",person1)\n",
    "print(\"person2\",person2)\n",
    "\n",
    "print(\"修改第二层元素\")\n",
    "person1[\"fullname\"][1] = \"Clinton\"\n",
    "print(\"person1\",person1)\n",
    "print(\"person2\",person2)                       # 可以看出，第二层元素指向了同一个值\n",
    "\n",
    "from copy import deepcopy                      # 使用函数之前需要导入函数\n",
    "print(\"深层复制\")\n",
    "person3 = deepcopy(person2)                    # 使用deepcopy函数进行深层复制\n",
    "print(person3)\n",
    "print(\"修改第二层数据\")\n",
    "person2[\"fullname\"][1] = \"Gates\"               # 修改person2第二层数据\n",
    "print(\"person3\",person3)\n",
    "print(\"person2\",person2)                       # 深层复制成功\n"
   ]
  },
  {
   "cell_type": "markdown",
   "metadata": {},
   "source": [
    "<hr>"
   ]
  },
  {
   "cell_type": "code",
   "execution_count": 34,
   "metadata": {},
   "outputs": [
    {
     "name": "stdout",
     "output_type": "stream",
     "text": [
      "{'hello': 'theSameValue', 'world': 'theSameValue', 'python': 'theSameValue'}\n"
     ]
    }
   ],
   "source": [
    "#fromkeys 使用指定的序列作为键，使用一个值作为所有的值\n",
    "l = ['hello', 'world', 'python']\n",
    "#直接用类名调用该函数\n",
    "d = dict.fromkeys(l,'theSameValue')\n",
    "print(d)"
   ]
  },
  {
   "cell_type": "markdown",
   "metadata": {},
   "source": [
    "<hr>"
   ]
  },
  {
   "cell_type": "code",
   "execution_count": 17,
   "metadata": {},
   "outputs": [
    {
     "name": "stdout",
     "output_type": "stream",
     "text": [
      "hello\n",
      "None\n",
      "100\n"
     ]
    }
   ],
   "source": [
    "# get方法实例\n",
    "d = {1: 'hello', 2: 'world', 3: 'python'}\n",
    "v = d.get(1)                    # 获取字典中key对应的value值\n",
    "e = d.get(12)                   # 如果键不存在，则返回None\n",
    "w = d.get(12,100)               # 可以通过第二个参数指定当键不存在时返回的值\n",
    "print(v)\n",
    "print(e)\n",
    "print(w)"
   ]
  },
  {
   "cell_type": "markdown",
   "metadata": {},
   "source": [
    "<hr>"
   ]
  },
  {
   "cell_type": "code",
   "execution_count": 3,
   "metadata": {},
   "outputs": [
    {
     "name": "stdout",
     "output_type": "stream",
     "text": [
      "dict_items([('help', '帮助'), ('bike', '自行车'), ('geek', '极客')])\n",
      "dict_keys(['help', 'bike', 'geek'])\n",
      "dict_values(['帮助', '自行车', '极客'])\n"
     ]
    }
   ],
   "source": [
    "# items，keys，values方法实例\n",
    "d = {\"help\":\"帮助\",'bike':'自行车',\"geek\":\"极客\"}\n",
    "print(d.items())\n",
    "print(d.keys())\n",
    "print(d.values())"
   ]
  },
  {
   "cell_type": "markdown",
   "metadata": {},
   "source": [
    "<hr>"
   ]
  },
  {
   "cell_type": "code",
   "execution_count": 14,
   "metadata": {
    "scrolled": true
   },
   "outputs": [
    {
     "name": "stdout",
     "output_type": "stream",
     "text": [
      "a\n",
      "{2: 'B', 3: 'c', 4: 'd'}\n",
      "(4, 'd')\n",
      "{2: 'B', 3: 'c'}\n"
     ]
    }
   ],
   "source": [
    "# pop方法和popitem方法实例\n",
    "d = {1:\"a\",2:\"B\",3:\"c\",4:\"d\"}\n",
    "print(d.pop(1))\n",
    "print(d)\n",
    "print(d.popitem()) # popitem() takes no arguments (1 given),意思是该方法不能加参数\n",
    "print(d)"
   ]
  },
  {
   "cell_type": "markdown",
   "metadata": {},
   "source": [
    "<hr>"
   ]
  },
  {
   "cell_type": "markdown",
   "metadata": {},
   "source": [
    "#### 如果key在字典中不存在，那么setdefault相当于dict[key] = value,但是当key存在时，使用setdefault则不会改变原值。"
   ]
  },
  {
   "cell_type": "code",
   "execution_count": 17,
   "metadata": {},
   "outputs": [
    {
     "name": "stdout",
     "output_type": "stream",
     "text": [
      "Bill\n",
      "{'name': 'Bill'}\n",
      "None\n",
      "{'name': 'Bill', 'age': None}\n"
     ]
    }
   ],
   "source": [
    "# setdefault方法\n",
    "# 定义一个空字典\n",
    "d = {}\n",
    "print(d.setdefault(\"name\",'Bill'))\n",
    "print(d)\n",
    "print(d.setdefault(\"age\"))\n",
    "print(d)"
   ]
  },
  {
   "cell_type": "markdown",
   "metadata": {},
   "source": [
    "<hr>"
   ]
  },
  {
   "cell_type": "code",
   "execution_count": 23,
   "metadata": {},
   "outputs": [
    {
     "name": "stdout",
     "output_type": "stream",
     "text": [
      "1 --- a\n",
      "2 --- b\n",
      "3 --- D\n",
      "4 --- S\n",
      "5 --- E\n",
      "6 --- F\n"
     ]
    }
   ],
   "source": [
    "# update方法实例\n",
    "d1 = {1:\"a\",2:\"b\",3:\"c\",4:\"d\"}\n",
    "d2 = {3:\"D\",4:\"S\",5:'E',6:'F'}        # 更新的内容都为大写\n",
    "\n",
    "# 用d2中的数据更新d1\n",
    "d1.update(d2)\n",
    "for k,v in d1.items():\n",
    "    print(k ,'---',v)"
   ]
  },
  {
   "cell_type": "markdown",
   "metadata": {},
   "source": [
    "#### 由于字典中的元素是通过一定的数据结构存储的，所以在字典中查找key要比在字典中查找value更高效，数据量越大，效果越明显。"
   ]
  }
 ],
 "metadata": {
  "kernelspec": {
   "display_name": "Python 3",
   "language": "python",
   "name": "python3"
  },
  "language_info": {
   "codemirror_mode": {
    "name": "ipython",
    "version": 3
   },
   "file_extension": ".py",
   "mimetype": "text/x-python",
   "name": "python",
   "nbconvert_exporter": "python",
   "pygments_lexer": "ipython3",
   "version": "3.6.5"
  }
 },
 "nbformat": 4,
 "nbformat_minor": 2
}
